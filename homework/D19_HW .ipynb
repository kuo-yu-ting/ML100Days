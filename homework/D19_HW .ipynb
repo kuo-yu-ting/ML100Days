{
 "cells": [
  {
   "cell_type": "markdown",
   "metadata": {
    "id": "kWVUusA6yG6a"
   },
   "source": [
    "# 教學目標 \n",
    "\n",
    "主要說明matplotlib 的基礎操作\n",
    "\n",
    "1. 使用常見的子圖與軸圖來做畫面配置\n",
    "\n",
    "2. 長條圖\n",
    "\n",
    "# 範例重點\n",
    "\n",
    "如何使用亂數, 資料集來操作\n"
   ]
  },
  {
   "cell_type": "markdown",
   "metadata": {
    "id": "GAmCGl5FyG6f"
   },
   "source": [
    "# 軸圖進階\n",
    "\n",
    "但是可以將圖放置在圖中的任何位置。因此，如果要在較大的圖中放置較小的圖，則可以使用軸。\n",
    "\n",
    "#特別提醒: tick 刻度線定位器\n",
    "\n",
    "格式正確的刻度線是準備發布的數據的重要組成部分。Matplotlib為滴答提供了一個完全可配置的系統。有刻度線定位器可以指定刻度線應出現的位置，刻度線格式化程序可以為刻度線提供所需的外觀。主刻度線和次刻度線可以相互獨立地定位和格式化。\n",
    "\n",
    "# 作業: 繪製如下圖示:\n",
    "\n",
    "![image.png](attachment:image.png) "
   ]
  },
  {
   "cell_type": "code",
   "execution_count": 10,
   "metadata": {
    "colab": {
     "base_uri": "https://localhost:8080/",
     "height": 178
    },
    "executionInfo": {
     "elapsed": 2084,
     "status": "ok",
     "timestamp": 1615306474514,
     "user": {
      "displayName": "陳宇春",
      "photoUrl": "",
      "userId": "17550852567328422073"
     },
     "user_tz": -480
    },
    "id": "S1dPnNLTyG6g",
    "outputId": "e08860a2-fdbd-4f1b-9f9a-3d51de3eb53e"
   },
   "outputs": [
    {
     "data": {
      "image/png": "[encoded data removed]",
      "text/plain": [
       "<Figure size 432x288 with 4 Axes>"
      ]
     },
     "metadata": {},
     "output_type": "display_data"
    }
   ],
   "source": [
    "import matplotlib.pyplot as plt\n",
    "\n",
    "#決定底框\n",
    "plt.axes([0.1,0.1,.5,.5])\n",
    "#給定刻度, 若不給定值, 圖的周邊無文字\n",
    "plt.xticks([]), plt.yticks([])\n",
    "plt.text(0.1,0.1, 'axes([0.1,0.1,.5,.5])',ha='left',va='center',size=16,alpha=.5)\n",
    "\n",
    "\n",
    "plt.axes([0.2,0.2,.3,.3])\n",
    "plt.xticks([]),plt.yticks([])\n",
    "plt.text(0.1,0.1,'axes([0.2,0.2,.3,.3])',ha='center',va='center',size=12,alpha=.5)\n",
    "\n",
    "plt.axes([0.4,0.4,.6,.6])\n",
    "plt.xticks([]),plt.yticks([])\n",
    "plt.text(0.1,0.1,'axes([0.1,0.1,.2,.2])',ha='left', va='center',size=6,alpha=.7)\n",
    "\n",
    "plt.axes([0.3,0.3,.1,.1])\n",
    "plt.xticks([]),plt.yticks([])\n",
    "plt.text(0.2,0.2,'axes([0.3,0.3,.1,.1])',ha='center',va='center',size=4,alpha=.5)\n",
    "'''\n",
    "#決定第二層框\n",
    "\n",
    "\n",
    "#決定第三層框\n",
    "\n",
    "\n",
    "#決定第四層框\n",
    "\n",
    "'''\n",
    "plt.show()"
   ]
  },
  {
   "cell_type": "markdown",
   "metadata": {
    "id": "yjINfe2HyG6i"
   },
   "source": [
    "# 條型圖: Bar Plots\n",
    "    \n",
    "長條圖主要用來呈現兩個維度的資料，一個為X軸另一個則為Y軸(當然這邊指的是二維的狀況，較為常見)\n",
    "\n",
    "主要用來呈現兩個維度的資料\n",
    "\n",
    "# 問題: 嘗試通過添加紅色條形標籤重現上側的圖形。\n",
    "\n",
    "# 在 四個像限的一二像限繪圖"
   ]
  },
  {
   "cell_type": "code",
   "execution_count": 15,
   "metadata": {
    "id": "XtYFcK9hyG6i",
    "outputId": "615de69f-4b23-489b-8f2d-0f4e1b38dd7f"
   },
   "outputs": [
    {
     "data": {
      "image/png": "[encoded data removed]",
      "text/plain": [
       "<Figure size 432x288 with 1 Axes>"
      ]
     },
     "metadata": {
      "needs_background": "light"
     },
     "output_type": "display_data"
    }
   ],
   "source": [
    "import numpy as np\n",
    "import matplotlib.pyplot as plt\n",
    "\n",
    " #配置12 組 Bar\n",
    "n = 12 \n",
    "X = np.arange(n)\n",
    "\n",
    " #給定數學運算式\n",
    "Y1 = (1-X/float(n)) * np.random.uniform(0.5,1.0,n)\n",
    "Y2 = (1-X/float(n)) * np.random.uniform(0.5,1.0,n)\n",
    "\n",
    "#指定上半部繪製區域, 給定 Bar 顏色, 邊界顏色\n",
    "plt.bar(X, +Y1, facecolor='#9999ff', edgecolor='white')\n",
    "# +Y 指的是 XY 四象限的第一象限\n",
    "# -Y 指的是 XY 四象限的第二象限\n",
    "\n",
    "plt.bar(X,-Y1, facecolor='red',edgecolor='white')\n",
    "'''\n",
    "#在此coding\n",
    "#指定下半部繪製區域, 給定 Bar 顏色, 邊界顏色\n",
    "#顏色除了用色標外, 也可以用顏色文字描述, red: 紅色\n",
    "'''\n",
    "\n",
    " #設定繪圖圖示區間\n",
    "for x,y in zip(X,Y1):\n",
    "    plt.text(x+0.4, y+0.05, '%.2f' % y, ha='center', va= 'bottom')\n",
    "\n",
    " #設定Y軸區間\n",
    "plt.ylim(-1.25,+1.25)\n",
    "plt.show()"
   ]
  },
  {
   "cell_type": "code",
   "execution_count": null,
   "metadata": {},
   "outputs": [],
   "source": []
  }
 ],
 "metadata": {
  "colab": {
   "collapsed_sections": [],
   "name": "Data Visualization_Day-2_HW.ipynb",
   "provenance": []
  },
  "kernelspec": {
   "display_name": "Python 3",
   "language": "python",
   "name": "python3"
  },
  "language_info": {
   "codemirror_mode": {
    "name": "ipython",
    "version": 3
   },
   "file_extension": ".py",
   "mimetype": "text/x-python",
   "name": "python",
   "nbconvert_exporter": "python",
   "pygments_lexer": "ipython3",
   "version": "3.7.6"
  }
 },
 "nbformat": 4,
 "nbformat_minor": 1
}
